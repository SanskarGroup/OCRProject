{
 "cells": [
  {
   "cell_type": "code",
   "execution_count": 14,
   "id": "30bdbd89-3740-4857-bca8-3a480c7d4bd3",
   "metadata": {},
   "outputs": [
    {
     "name": "stdout",
     "output_type": "stream",
     "text": [
      "Department Name : CSE\n",
      "Department ID : D01\n"
     ]
    }
   ],
   "source": [
    "class Department:\n",
    "    def __init__(self,department,did):\n",
    "        self.dname = department\n",
    "        self.deptid = did\n",
    "\n",
    "    def display(self):\n",
    "        print(\"Department Name : \"+self.dname)\n",
    "        print(\"Department ID : \"+self.did)\n",
    "\n",
    "class Employee(Department):\n",
    "    def __init__(self,department, did):\n",
    "        self.department = department\n",
    "        self.did = did\n",
    "        Department.__init__(self,department,did)\n",
    "\n",
    "object = Employee(\"CSE\",\"D01\")\n",
    "object.display()"
   ]
  },
  {
   "cell_type": "code",
   "execution_count": null,
   "id": "14acb326-b402-436b-a806-ea947598983c",
   "metadata": {},
   "outputs": [],
   "source": []
  },
  {
   "cell_type": "code",
   "execution_count": null,
   "id": "276836fa-d3e2-44b9-a611-25a301f1712a",
   "metadata": {},
   "outputs": [],
   "source": []
  }
 ],
 "metadata": {
  "kernelspec": {
   "display_name": "Python 3 (ipykernel)",
   "language": "python",
   "name": "python3"
  },
  "language_info": {
   "codemirror_mode": {
    "name": "ipython",
    "version": 3
   },
   "file_extension": ".py",
   "mimetype": "text/x-python",
   "name": "python",
   "nbconvert_exporter": "python",
   "pygments_lexer": "ipython3",
   "version": "3.11.9"
  }
 },
 "nbformat": 4,
 "nbformat_minor": 5
}

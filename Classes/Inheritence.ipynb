{
 "cells": [
  {
   "cell_type": "code",
   "execution_count": 14,
   "id": "30bdbd89-3740-4857-bca8-3a480c7d4bd3",
   "metadata": {},
   "outputs": [
    {
     "name": "stdout",
     "output_type": "stream",
     "text": [
      "Department Name : CSE\n",
      "Department ID : D01\n"
     ]
    }
   ],
   "source": [
    "class Department:\n",
    "    def __init__(self,department,did):\n",
    "        self.dname = department\n",
    "        self.deptid = did\n",
    "\n",
    "    def display(self):\n",
    "        print(\"Department Name : \"+self.dname)\n",
    "        print(\"Department ID : \"+self.did)\n",
    "\n",
    "class Employee(Department):\n",
    "    def __init__(self,department, did):\n",
    "        self.department = department\n",
    "        self.did = did\n",
    "        Department.__init__(self,department,did)\n",
    "\n",
    "object = Employee(\"CSE\",\"D01\")\n",
    "object.display()"
   ]
  },
  {
   "cell_type": "raw",
   "id": "fa069ce8-6c59-463e-ba66-bf696b57612f",
   "metadata": {},
   "source": [
    "Single Inheritence"
   ]
  },
  {
   "cell_type": "code",
   "execution_count": 4,
   "id": "5c437e3e-2937-46be-a04d-60585669d2c5",
   "metadata": {},
   "outputs": [
    {
     "name": "stdout",
     "output_type": "stream",
     "text": [
      "Father Name : Pysics\n",
      "Mother Name : Chemistry\n",
      "Child Name is Mathematics\n"
     ]
    }
   ],
   "source": [
    "class Parents:\n",
    "    def get_parent_det(self):\n",
    "        Fath_name = \"Pysics\"\n",
    "        Moth_name = \"Chemistry\"\n",
    "        print(\"Father Name : \"+Fath_name+\"\\nMother Name : \"+Moth_name)\n",
    "\n",
    "#deriving class\n",
    "class Children (Parents):\n",
    "    def get_child_details(self):\n",
    "        Child_name = \"Mathematics\"\n",
    "        print(\"Child Name is \" + Child_name)\n",
    "\n",
    "obj = Children()\n",
    "obj.get_parent_det()\n",
    "obj.get_child_details()"
   ]
  },
  {
   "cell_type": "code",
   "execution_count": null,
   "id": "fb330561-fb11-466f-8ccf-c94581bb6b66",
   "metadata": {},
   "outputs": [],
   "source": []
  },
  {
   "cell_type": "markdown",
   "id": "27520fd5-98ce-4b49-ab42-bda1532f0745",
   "metadata": {},
   "source": [
    "Multiple Inheritences"
   ]
  },
  {
   "cell_type": "code",
   "execution_count": 23,
   "id": "378a4fee-9c4c-4d2b-b803-ac1e3eac1639",
   "metadata": {},
   "outputs": [
    {
     "name": "stdout",
     "output_type": "stream",
     "text": [
      "Father Name Ram\n",
      "Mother Name Sita\n"
     ]
    }
   ],
   "source": [
    "class Fathername:\n",
    "    def __init__(self):\n",
    "        fathername_variable = \"\"\n",
    "        \n",
    "class Mothername:\n",
    "    def __init__(self):\n",
    "        mothername_variable = \"\"\n",
    "\n",
    "class Son(Fathername, Mothername):\n",
    "    def __init__(self,fth_name, mth_name):\n",
    "        self.fathername_variable = fth_name\n",
    "        self.mothername_variable = mth_name\n",
    "    def parents(self):\n",
    "        print(\"Father Name \" +self.fathername_variable)\n",
    "        print(\"Mother Name \" +self.mothername_variable)\n",
    "\n",
    "\n",
    "object2 = Son(\"Ram\",\"Sita\")\n",
    "object2.parents()"
   ]
  },
  {
   "cell_type": "code",
   "execution_count": null,
   "id": "15638b30-e545-4df1-886b-b619e22216ce",
   "metadata": {},
   "outputs": [],
   "source": []
  },
  {
   "cell_type": "markdown",
   "id": "93049821-cc31-48b7-8768-886fa550e225",
   "metadata": {},
   "source": [
    "Homework"
   ]
  },
  {
   "cell_type": "code",
   "execution_count": 41,
   "id": "4c503536-2da6-4616-9903-2b71ea1a83ca",
   "metadata": {},
   "outputs": [
    {
     "name": "stdin",
     "output_type": "stream",
     "text": [
      "Enter the Employee Name :  Sanskar Debnath\n",
      "Enter the Employee ID of the Employee :  CSDEPT963\n",
      "Enter the Employee's Basic Salary :  55000.75\n"
     ]
    },
    {
     "name": "stdout",
     "output_type": "stream",
     "text": [
      "Employee Name : Sanskar Debnath\n",
      "Employee ID : CSDEPT963\n",
      "Employee Gross Salary : 74251.01\n"
     ]
    }
   ],
   "source": [
    "class Employee:\n",
    "    def __init__(self):\n",
    "        employee_name = \"\"\n",
    "        employee_id = \"\"\n",
    "        employee_bs_Sal = 0.0\n",
    "\n",
    "class Employee1(Employee):\n",
    "    def __init__(self, emp_name, emp_id, salary):\n",
    "        self.employee_name = emp_name\n",
    "        self.employee_id = emp_id\n",
    "        self.employee_bs_sal = salary\n",
    "        da = self.employee_bs_sal * (20/100)\n",
    "        ta = self.employee_bs_sal * (15/100)\n",
    "        self.gross_salary = self.employee_bs_sal + da + ta\n",
    "\n",
    "    def display(self):\n",
    "        print(\"Employee Name : \"+self.employee_name)\n",
    "        print(\"Employee ID : \"+self.employee_id)\n",
    "        print(f\"Employee Gross Salary : {self.gross_salary:.2f}\")\n",
    "\n",
    "\n",
    "employee_name = input(\"Enter the Employee Name : \")\n",
    "employee_id = input(\"Enter the Employee ID of the Employee : \")\n",
    "employee_bs_salary = float(input(\"Enter the Employee's Basic Salary : \"))\n",
    "\n",
    "object4 = Employee1(employee_name,employee_id,employee_bs_salary)\n",
    "object4.display()"
   ]
  },
  {
   "cell_type": "markdown",
   "id": "57e76070-def8-47b4-9169-60a33050ed58",
   "metadata": {},
   "source": [
    "Multi-level Inheritence"
   ]
  },
  {
   "cell_type": "code",
   "execution_count": null,
   "id": "d57074c7-b6fa-4cd8-8fd6-98ecf3c249e8",
   "metadata": {},
   "outputs": [],
   "source": [
    "class College:\n",
    "    def __init__(self,collegename,collegecode):\n",
    "        self.cname = collegename\n",
    "        self.ccode = collegecode\n",
    "\n",
    "class Cse(College):\n",
    "    def __init__(self, collegename, collegecode, totalstudent):\n",
    "        self.tstudent = totalstudent\n",
    "        Collge.__init__(self,collegename,collegecode)\n",
    "\n",
    "class Aids(Cse):\n",
    "    def \n",
    "        "
   ]
  }
 ],
 "metadata": {
  "kernelspec": {
   "display_name": "Python 3 (ipykernel)",
   "language": "python",
   "name": "python3"
  },
  "language_info": {
   "codemirror_mode": {
    "name": "ipython",
    "version": 3
   },
   "file_extension": ".py",
   "mimetype": "text/x-python",
   "name": "python",
   "nbconvert_exporter": "python",
   "pygments_lexer": "ipython3",
   "version": "3.11.9"
  }
 },
 "nbformat": 4,
 "nbformat_minor": 5
}

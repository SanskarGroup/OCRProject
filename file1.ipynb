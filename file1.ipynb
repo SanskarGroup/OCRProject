{
 "cells": [
  {
   "cell_type": "code",
   "execution_count": 1,
   "id": "1a50a689-b7de-4955-b01b-54d1d5cc33d7",
   "metadata": {},
   "outputs": [
    {
     "name": "stdout",
     "output_type": "stream",
     "text": [
      "Installing:                     \n",
      "\u001b[32m  tesseract-ocr\n",
      "\u001b[0m\n",
      "Installing dependencies:\n",
      "\u001b[32m  liblept5 libtesseract5 tesseract-ocr-eng tesseract-ocr-osd\n",
      "\u001b[0m\n",
      "Summary:\n",
      "  Upgrading: 0, Installing: 5, Removing: 0, Not Upgrading: 66\n",
      "  Download size: 1594 kB / 7370 kB\n",
      "  Space needed: 23.6 MB / 11.7 GB available\n",
      "\n",
      "Get:1 http://kali.download/kali kali-rolling/main amd64 tesseract-ocr-eng all 1:4.1.0-2 [1594 kB]\n",
      "Fetched 1147 kB in 1s (871 kB/s)            \u001b[0m\u001b[33m\n",
      "\n",
      "\u001b7\u001b[0;23r\u001b8\u001b[1ASelecting previously unselected package liblept5:amd64.\n",
      "(Reading database ... 411700 files and directories currently installed.)\n",
      "Preparing to unpack .../liblept5_1.82.0-3+b4_amd64.deb ...\n",
      "\u001b7\u001b[24;0f\u001b[42m\u001b[30mProgress: [  0%]\u001b[49m\u001b[39m [                                                          ] \u001b8\u001b7\u001b[24;0f\u001b[42m\u001b[30mProgress: [  5%]\u001b[49m\u001b[39m [██▊                                                       ] \u001b8Unpacking liblept5:amd64 (1.82.0-3+b4) ...\n",
      "\u001b7\u001b[24;0f\u001b[42m\u001b[30mProgress: [ 10%]\u001b[49m\u001b[39m [█████▌                                                    ] \u001b8Selecting previously unselected package libtesseract5:amd64.\n",
      "Preparing to unpack .../libtesseract5_5.3.4-1.1+b1_amd64.deb ...\n",
      "\u001b7\u001b[24;0f\u001b[42m\u001b[30mProgress: [ 14%]\u001b[49m\u001b[39m [████████▎                                                 ] \u001b8Unpacking libtesseract5:amd64 (5.3.4-1.1+b1) ...\n",
      "\u001b7\u001b[24;0f\u001b[42m\u001b[30mProgress: [ 19%]\u001b[49m\u001b[39m [███████████                                               ] \u001b8Selecting previously unselected package tesseract-ocr-eng.\n",
      "Preparing to unpack .../tesseract-ocr-eng_1%3a4.1.0-2_all.deb ...\n",
      "\u001b7\u001b[24;0f\u001b[42m\u001b[30mProgress: [ 24%]\u001b[49m\u001b[39m [█████████████▊                                            ] \u001b8Unpacking tesseract-ocr-eng (1:4.1.0-2) ...\n",
      "\u001b7\u001b[24;0f\u001b[42m\u001b[30mProgress: [ 29%]\u001b[49m\u001b[39m [████████████████▌                                         ] \u001b8Selecting previously unselected package tesseract-ocr-osd.\n",
      "Preparing to unpack .../tesseract-ocr-osd_1%3a4.1.0-2_all.deb ...\n",
      "\u001b7\u001b[24;0f\u001b[42m\u001b[30mProgress: [ 33%]\u001b[49m\u001b[39m [███████████████████▎                                      ] \u001b8Unpacking tesseract-ocr-osd (1:4.1.0-2) ...\n",
      "\u001b7\u001b[24;0f\u001b[42m\u001b[30mProgress: [ 38%]\u001b[49m\u001b[39m [██████████████████████                                    ] \u001b8Selecting previously unselected package tesseract-ocr.\n",
      "Preparing to unpack .../tesseract-ocr_5.3.4-1.1+b1_amd64.deb ...\n",
      "\u001b7\u001b[24;0f\u001b[42m\u001b[30mProgress: [ 43%]\u001b[49m\u001b[39m [████████████████████████▊                                 ] \u001b8Unpacking tesseract-ocr (5.3.4-1.1+b1) ...\n",
      "\u001b7\u001b[24;0f\u001b[42m\u001b[30mProgress: [ 48%]\u001b[49m\u001b[39m [███████████████████████████▌                              ] \u001b8Setting up tesseract-ocr-eng (1:4.1.0-2) ...\n",
      "\u001b7\u001b[24;0f\u001b[42m\u001b[30mProgress: [ 52%]\u001b[49m\u001b[39m [██████████████████████████████▍                           ] \u001b8\u001b7\u001b[24;0f\u001b[42m\u001b[30mProgress: [ 57%]\u001b[49m\u001b[39m [█████████████████████████████████▏                        ] \u001b8Setting up liblept5:amd64 (1.82.0-3+b4) ...\n",
      "\u001b7\u001b[24;0f\u001b[42m\u001b[30mProgress: [ 62%]\u001b[49m\u001b[39m [███████████████████████████████████▉                      ] \u001b8\u001b7\u001b[24;0f\u001b[42m\u001b[30mProgress: [ 67%]\u001b[49m\u001b[39m [██████████████████████████████████████▋                   ] \u001b8Setting up libtesseract5:amd64 (5.3.4-1.1+b1) ...\n",
      "\u001b7\u001b[24;0f\u001b[42m\u001b[30mProgress: [ 71%]\u001b[49m\u001b[39m [█████████████████████████████████████████▍                ] \u001b8\u001b7\u001b[24;0f\u001b[42m\u001b[30mProgress: [ 76%]\u001b[49m\u001b[39m [████████████████████████████████████████████▏             ] \u001b8Setting up tesseract-ocr-osd (1:4.1.0-2) ...\n",
      "\u001b7\u001b[24;0f\u001b[42m\u001b[30mProgress: [ 81%]\u001b[49m\u001b[39m [██████████████████████████████████████████████▉           ] \u001b8\u001b7\u001b[24;0f\u001b[42m\u001b[30mProgress: [ 86%]\u001b[49m\u001b[39m [█████████████████████████████████████████████████▋        ] \u001b8Setting up tesseract-ocr (5.3.4-1.1+b1) ...\n",
      "\u001b7\u001b[24;0f\u001b[42m\u001b[30mProgress: [ 90%]\u001b[49m\u001b[39m [████████████████████████████████████████████████████▍     ] \u001b8\u001b7\u001b[24;0f\u001b[42m\u001b[30mProgress: [ 95%]\u001b[49m\u001b[39m [███████████████████████████████████████████████████████▏  ] \u001b8Processing triggers for libc-bin (2.38-13) ...\n",
      "Processing triggers for man-db (2.12.1-3) ...\n",
      "Processing triggers for kali-menu (2024.3.1) ...\n",
      "\n",
      "\u001b7\u001b[0;24r\u001b8\u001b[1A\u001b[J"
     ]
    }
   ],
   "source": [
    "#pip install Pillow\n",
    "#pip install pytesseract\n",
    "# !pip install tesseract-ocr\n",
    "!sudo apt install tesseract-ocr -y"
   ]
  },
  {
   "cell_type": "code",
   "execution_count": 5,
   "id": "f200a5a4-3524-4563-9d4b-42911c79ee63",
   "metadata": {},
   "outputs": [
    {
     "name": "stdout",
     "output_type": "stream",
     "text": [
      "Requirement already satisfied: pytesseract in /usr/local/lib/python3.11/dist-packages (0.3.13)\n",
      "Requirement already satisfied: packaging>=21.3 in /usr/lib/python3/dist-packages (from pytesseract) (24.1)\n",
      "Requirement already satisfied: Pillow>=8.0.0 in /usr/lib/python3/dist-packages (from pytesseract) (10.3.0)\n",
      "\u001b[33mWARNING: Running pip as the 'root' user can result in broken permissions and conflicting behaviour with the system package manager, possibly rendering your system unusable.It is recommended to use a virtual environment instead: https://pip.pypa.io/warnings/venv. Use the --root-user-action option if you know what you are doing and want to suppress this warning.\u001b[0m\u001b[33m\n",
      "\u001b[0m"
     ]
    }
   ],
   "source": [
    "# !sudo apt install tesseract-ocr-ben -y\n",
    "!pip install pytesseract"
   ]
  },
  {
   "cell_type": "code",
   "execution_count": 2,
   "id": "920386b8-46c2-44f6-b30b-5904f14e894a",
   "metadata": {},
   "outputs": [
    {
     "name": "stdout",
     "output_type": "stream",
     "text": [
      "It was the best of\n",
      "times, it was the worst\n",
      "of times, it was the age\n",
      "of wisdom, it was the\n",
      "age of foolishness...\n",
      "\n"
     ]
    }
   ],
   "source": [
    "from PIL import Image\n",
    "import pytesseract\n",
    "import numpy as np\n",
    "filename = 'ImageData/Image1.png'\n",
    "img1 = np.array(Image.open(filename))\n",
    "text = pytesseract.image_to_string(img1)\n",
    "print(text)"
   ]
  },
  {
   "cell_type": "code",
   "execution_count": 13,
   "id": "ab08bed7-b0e3-48b8-8e89-f7e47540c356",
   "metadata": {},
   "outputs": [
    {
     "data": {
      "image/png": "[encoded data removed]",
      "text/plain": [
       "<Figure size 640x480 with 1 Axes>"
      ]
     },
     "metadata": {},
     "output_type": "display_data"
    }
   ],
   "source": [
    "# import matplotlib.pyplot as plt\n",
    "# x = np.random.normal(1000,500,400)\n",
    "# plt.hist(x)\n",
    "# plt.show()\n",
    "\n",
    "\n",
    "y = np.array([35, 25, 25, 15])\n",
    "mylabels = [\"Apples\", \"Bananas\", \"Cherries\", \"Dates\"]\n",
    "myexplode = [0.2, 0, 0, 0]\n",
    "\n",
    "plt.pie(y, labels = mylabels, explode = myexplode)\n",
    "plt.show() "
   ]
  },
  {
   "cell_type": "code",
   "execution_count": null,
   "id": "cef1f729-d81e-4a45-b2a4-4bde9b483b9f",
   "metadata": {},
   "outputs": [],
   "source": []
  },
  {
   "cell_type": "code",
   "execution_count": null,
   "id": "87adef43-f7c7-494c-af9d-842421606854",
   "metadata": {},
   "outputs": [],
   "source": []
  }
 ],
 "metadata": {
  "kernelspec": {
   "display_name": "Python 3 (ipykernel)",
   "language": "python",
   "name": "python3"
  },
  "language_info": {
   "codemirror_mode": {
    "name": "ipython",
    "version": 3
   },
   "file_extension": ".py",
   "mimetype": "text/x-python",
   "name": "python",
   "nbconvert_exporter": "python",
   "pygments_lexer": "ipython3",
   "version": "3.11.9"
  }
 },
 "nbformat": 4,
 "nbformat_minor": 5
}
